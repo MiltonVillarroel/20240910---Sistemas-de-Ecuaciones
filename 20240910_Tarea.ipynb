{
  "nbformat": 4,
  "nbformat_minor": 0,
  "metadata": {
    "colab": {
      "provenance": [],
      "authorship_tag": "ABX9TyNilY/75iivamX7dlJJlKkw",
      "include_colab_link": true
    },
    "kernelspec": {
      "name": "python3",
      "display_name": "Python 3"
    },
    "language_info": {
      "name": "python"
    }
  },
  "cells": [
    {
      "cell_type": "markdown",
      "metadata": {
        "id": "view-in-github",
        "colab_type": "text"
      },
      "source": [
        "<a href=\"https://colab.research.google.com/github/MiltonVillarroel/20240910---Sistemas-de-Ecuaciones/blob/main/20240910_Tarea.ipynb\" target=\"_parent\"><img src=\"https://colab.research.google.com/assets/colab-badge.svg\" alt=\"Open In Colab\"/></a>"
      ]
    },
    {
      "cell_type": "markdown",
      "source": [
        "#Problema\n",
        "\n",
        "Un ingeniero civil necesita:\n",
        "\n",
        "- 4800 m³ de arena\n",
        "- 5810 m³ de grano fino\n",
        "- 5690 m³ de grano grueso\n",
        "\n",
        "Las canteras disponibles son:\n",
        "\n",
        "| Material   | Arena | Grano fino | Grano grueso |\n",
        "|------------|-------|------------|--------------|\n",
        "| **Cantera 1** | 52%  | 30%       | 18%          |\n",
        "| **Cantera 2** | 20%  | 50%       | 30%          |\n",
        "| **Cantera 3** | 25%  | 20%       | 55%          |\n",
        "\n",
        "Se debe determinar la cantidad de metros cúbicos a transportar de cada cantera para cumplir con los requerimientos. Las ecuaciones para resolver el problema son:\n",
        "\n",
        "1. $0.52x + 0.2y + 0.25z = 4800$\n",
        "2. $0.3x + 0.5y + 0.2z = 5810$\n",
        "3. $0.25x + 0.2y + 0.55z = 5690$\n",
        "\n"
      ],
      "metadata": {
        "id": "FF4L5pPakLuY"
      }
    },
    {
      "cell_type": "code",
      "execution_count": 1,
      "metadata": {
        "id": "dxiMQpZEkH7p"
      },
      "outputs": [],
      "source": [
        "import numpy as np"
      ]
    },
    {
      "cell_type": "code",
      "source": [
        "A=np.array([[0.52,0.2,0.25],[0.3,0.5,0.2],[0.25,0.2,0.55]])\n",
        "B=np.array([[4800],[5810],[5690]])\n",
        "X=np.linalg.inv(A).dot(B)\n",
        "print(X)\n"
      ],
      "metadata": {
        "colab": {
          "base_uri": "https://localhost:8080/"
        },
        "id": "HwyT8KpbkwMF",
        "outputId": "aab483c1-359f-4027-fa7a-ede64536612a"
      },
      "execution_count": 10,
      "outputs": [
        {
          "output_type": "stream",
          "name": "stdout",
          "text": [
            "[[3565.40084388]\n",
            " [7010.54852321]\n",
            " [6175.52742616]]\n"
          ]
        }
      ]
    }
  ]
}